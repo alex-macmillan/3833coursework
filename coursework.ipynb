{
 "cells": [
  {
   "cell_type": "code",
   "execution_count": 1,
   "metadata": {
    "collapsed": false,
    "jupyter": {
     "outputs_hidden": false
    },
    "pycharm": {
     "name": "#%%\n"
    }
   },
   "outputs": [],
   "source": [
    "import altair as alt\n",
    "from vega_datasets import data\n",
    "import pandas as pd\n",
    "import geopandas as gpd"
   ]
  },
  {
   "cell_type": "code",
   "execution_count": 2,
   "metadata": {
    "collapsed": false,
    "jupyter": {
     "outputs_hidden": false
    },
    "pycharm": {
     "name": "#%%\n"
    }
   },
   "outputs": [],
   "source": [
    "pd.set_option('display.max_columns', None)\n",
    "df = pd.read_excel(\"dataset.xlsx\", header=5, usecols=\"A, D:AA\",\n",
    "                   skiprows=[6,7,50], na_values='..')\n",
    "# remove 2 whitespace chars at beginning of each column\n",
    "df.columns = df.columns.str[2:]\n",
    "# rename the first header to 'Country'\n",
    "df.rename(columns={'named: 0': 'Country'}, inplace=True)\n",
    "# correct the naming scheme of the non-OECD countries\n",
    "df.iloc[[39], [0]] = 'Brazil'\n",
    "df.iloc[[40], [0]] = 'Russia'\n",
    "df.iloc[[41], [0]] = 'South Africa'\n",
    "# correcting country names to conform to UN standard\n",
    "df.iloc[[37], [0]] = 'United States of America'\n",
    "df.iloc[[35], [0]] = 'Turkey'\n",
    "df.iloc[[30], [0]] = 'Slovakia'\n",
    "df.iloc[[20], [0]] = 'South Korea'\n",
    "df.iloc[[7], [0]] = 'Czechia'"
   ]
  },
  {
   "cell_type": "code",
   "execution_count": 3,
   "metadata": {
    "collapsed": false,
    "jupyter": {
     "outputs_hidden": false
    },
    "pycharm": {
     "name": "#%%\n"
    },
    "scrolled": true
   },
   "outputs": [
    {
     "data": {
      "text/html": [
       "\n",
       "<style>\n",
       "  #altair-viz-6e4e2e6fce94415d82f5907d9b1ca888.vega-embed {\n",
       "    width: 100%;\n",
       "    display: flex;\n",
       "  }\n",
       "\n",
       "  #altair-viz-6e4e2e6fce94415d82f5907d9b1ca888.vega-embed details,\n",
       "  #altair-viz-6e4e2e6fce94415d82f5907d9b1ca888.vega-embed details summary {\n",
       "    position: relative;\n",
       "  }\n",
       "</style>\n",
       "<div id=\"altair-viz-6e4e2e6fce94415d82f5907d9b1ca888\"></div>\n",
       "<script type=\"text/javascript\">\n",
       "  var VEGA_DEBUG = (typeof VEGA_DEBUG == \"undefined\") ? {} : VEGA_DEBUG;\n",
       "  (function(spec, embedOpt){\n",
       "    let outputDiv = document.currentScript.previousElementSibling;\n",
       "    if (outputDiv.id !== \"altair-viz-6e4e2e6fce94415d82f5907d9b1ca888\") {\n",
       "      outputDiv = document.getElementById(\"altair-viz-6e4e2e6fce94415d82f5907d9b1ca888\");\n",
       "    }\n",
       "    const paths = {\n",
       "      \"vega\": \"https://cdn.jsdelivr.net/npm/vega@5?noext\",\n",
       "      \"vega-lib\": \"https://cdn.jsdelivr.net/npm/vega-lib?noext\",\n",
       "      \"vega-lite\": \"https://cdn.jsdelivr.net/npm/vega-lite@5.15.1?noext\",\n",
       "      \"vega-embed\": \"https://cdn.jsdelivr.net/npm/vega-embed@6?noext\",\n",
       "    };\n",
       "\n",
       "    function maybeLoadScript(lib, version) {\n",
       "      var key = `${lib.replace(\"-\", \"\")}_version`;\n",
       "      return (VEGA_DEBUG[key] == version) ?\n",
       "        Promise.resolve(paths[lib]) :\n",
       "        new Promise(function(resolve, reject) {\n",
       "          var s = document.createElement('script');\n",
       "          document.getElementsByTagName(\"head\")[0].appendChild(s);\n",
       "          s.async = true;\n",
       "          s.onload = () => {\n",
       "            VEGA_DEBUG[key] = version;\n",
       "            return resolve(paths[lib]);\n",
       "          };\n",
       "          s.onerror = () => reject(`Error loading script: ${paths[lib]}`);\n",
       "          s.src = paths[lib];\n",
       "        });\n",
       "    }\n",
       "\n",
       "    function showError(err) {\n",
       "      outputDiv.innerHTML = `<div class=\"error\" style=\"color:red;\">${err}</div>`;\n",
       "      throw err;\n",
       "    }\n",
       "\n",
       "    function displayChart(vegaEmbed) {\n",
       "      vegaEmbed(outputDiv, spec, embedOpt)\n",
       "        .catch(err => showError(`Javascript Error: ${err.message}<br>This usually means there's a typo in your chart specification. See the javascript console for the full traceback.`));\n",
       "    }\n",
       "\n",
       "    if(typeof define === \"function\" && define.amd) {\n",
       "      requirejs.config({paths});\n",
       "      require([\"vega-embed\"], displayChart, err => showError(`Error loading script: ${err.message}`));\n",
       "    } else {\n",
       "      maybeLoadScript(\"vega\", \"5\")\n",
       "        .then(() => maybeLoadScript(\"vega-lite\", \"5.15.1\"))\n",
       "        .then(() => maybeLoadScript(\"vega-embed\", \"6\"))\n",
       "        .catch(showError)\n",
       "        .then(() => displayChart(vegaEmbed));\n",
       "    }\n",
       "  })({\"config\": {\"view\": {\"continuousWidth\": 300, \"continuousHeight\": 300}}, \"layer\": [{\"mark\": {\"type\": \"bar\"}, \"encoding\": {\"text\": {\"field\": \"Count\", \"type\": \"quantitative\"}, \"x\": {\"field\": \"Count\", \"type\": \"quantitative\"}, \"y\": {\"field\": \"Columns\", \"type\": \"nominal\"}}}, {\"mark\": {\"type\": \"text\", \"align\": \"left\", \"baseline\": \"middle\", \"dx\": 3}, \"encoding\": {\"text\": {\"field\": \"Count\", \"type\": \"quantitative\"}, \"x\": {\"field\": \"Count\", \"type\": \"quantitative\"}, \"y\": {\"field\": \"Columns\", \"type\": \"nominal\"}}}], \"data\": {\"name\": \"data-7634f61cfde23dbd72b5b551c46607ac\"}, \"$schema\": \"https://vega.github.io/schema/vega-lite/v5.15.1.json\", \"datasets\": {\"data-7634f61cfde23dbd72b5b551c46607ac\": [{\"Columns\": \"Country\", \"Count\": 0}, {\"Columns\": \"Dwellings without basic facilities\", \"Count\": 3}, {\"Columns\": \"Housing expenditure\", \"Count\": 4}, {\"Columns\": \"Rooms per person\", \"Count\": 3}, {\"Columns\": \"Household net adjusted disposable income\", \"Count\": 6}, {\"Columns\": \"Household net wealth\", \"Count\": 12}, {\"Columns\": \"Labour market insecurity\", \"Count\": 7}, {\"Columns\": \"Employment rate\", \"Count\": 0}, {\"Columns\": \"Long-term unemployment rate\", \"Count\": 2}, {\"Columns\": \"Personal earnings\", \"Count\": 6}, {\"Columns\": \"Quality of support network\", \"Count\": 0}, {\"Columns\": \"Educational attainment\", \"Count\": 1}, {\"Columns\": \"Student skills\", \"Count\": 2}, {\"Columns\": \"Years in education\", \"Count\": 2}, {\"Columns\": \"Air pollution\", \"Count\": 0}, {\"Columns\": \"Water quality\", \"Count\": 0}, {\"Columns\": \"Stakeholder engagement for developing regulations\", \"Count\": 2}, {\"Columns\": \"Voter turnout\", \"Count\": 0}, {\"Columns\": \"Life expectancy\", \"Count\": 0}, {\"Columns\": \"Self-reported health\", \"Count\": 2}, {\"Columns\": \"Life satisfaction\", \"Count\": 0}, {\"Columns\": \"Feeling safe walking alone at night\", \"Count\": 0}, {\"Columns\": \"Homicide rate\", \"Count\": 0}, {\"Columns\": \"Employees working very long hours\", \"Count\": 2}, {\"Columns\": \"Time devoted to leisure and personal care\", \"Count\": 19}]}}, {\"mode\": \"vega-lite\"});\n",
       "</script>"
      ],
      "text/plain": [
       "alt.LayerChart(...)"
      ]
     },
     "execution_count": 3,
     "metadata": {},
     "output_type": "execute_result"
    }
   ],
   "source": [
    "nulls = df.isna().sum()\n",
    "\n",
    "# convert the binary dataframe into viewing dataframe and create bar chart\n",
    "visualise_nulls = pd.DataFrame({'Columns': nulls.index, 'Count': nulls.values})\n",
    "\n",
    "bar = alt.Chart(visualise_nulls).mark_bar().encode(\n",
    "    x=alt.X('Count:Q'),\n",
    "    y=alt.Y(\"Columns:N\"),\n",
    "    text='Count'\n",
    ")\n",
    "# add text to label the values of each bar\n",
    "text = bar.mark_text(\n",
    "    align='left',\n",
    "    baseline='middle',\n",
    "    dx=3\n",
    ").encode(\n",
    "    text='Count:Q'\n",
    ")\n",
    "bar + text"
   ]
  },
  {
   "cell_type": "code",
   "execution_count": 4,
   "metadata": {
    "collapsed": false,
    "jupyter": {
     "outputs_hidden": false
    },
    "pycharm": {
     "name": "#%%\n"
    },
    "scrolled": true
   },
   "outputs": [
    {
     "name": "stdout",
     "output_type": "stream",
     "text": [
      "Index(['Country', 'Dwellings without basic facilities', 'Housing expenditure',\n",
      "       'Rooms per person', 'Household net adjusted disposable income',\n",
      "       'Household net wealth', 'Labour market insecurity', 'Employment rate',\n",
      "       'Long-term unemployment rate', 'Personal earnings',\n",
      "       'Quality of support network', 'Educational attainment',\n",
      "       'Student skills', 'Years in education', 'Air pollution',\n",
      "       'Water quality', 'Stakeholder engagement for developing regulations',\n",
      "       'Voter turnout', 'Life expectancy', 'Self-reported health',\n",
      "       'Life satisfaction', 'Feeling safe walking alone at night',\n",
      "       'Homicide rate', 'Employees working very long hours',\n",
      "       'Time devoted to leisure and personal care'],\n",
      "      dtype='object')\n"
     ]
    }
   ],
   "source": [
    "for column in df.columns:\n",
    "  if column != 'Country':\n",
    "    mean_value = df[column].mean()\n",
    "    df[column].fillna(value=mean_value, inplace=True)\n",
    "\n",
    "# testing imputations have been implemented correctly\n",
    "#earnings_mean = df['Personal earnings'].mean()\n",
    "#print(earnings_mean)\n",
    "#df[df['Personal earnings'] == earnings_mean]\n",
    "print(df.columns)"
   ]
  },
  {
   "cell_type": "code",
   "execution_count": 13,
   "metadata": {
    "collapsed": false,
    "jupyter": {
     "outputs_hidden": false
    },
    "pycharm": {
     "name": "#%%\n"
    }
   },
   "outputs": [],
   "source": [
    "# Source of the cartography background\n",
    "url = \"https://naciscdn.org/naturalearth/110m/cultural/ne_110m_admin_0_countries.zip\"\n",
    "countries_shape = gpd.read_file(url) # zipped shapefile\n",
    "countries_shape = countries_shape[['NAME', 'CONTINENT', 'ISO_A3', 'geometry']]\n",
    "\n",
    "countries = alt.Chart(countries_shape).mark_geoshape(\n",
    "    fill='gray', stroke='black', strokeWidth=0.5)\n",
    "\n",
    "#sphere = alt.sphere()\n",
    "\n",
    "basemap = alt.layer(\n",
    "    alt.Chart(sphere).mark_geoshape(fill='white'),\n",
    "    alt.Chart(alt.graticule()).mark_geoshape(stroke='black')\n",
    ")\n",
    "\n",
    "# enable selection of countries on the map\n",
    "click_countries  = alt.selection_point(fields=['NAME'])\n",
    "\n",
    "# encoding data to map\n",
    "chloropleth = (\n",
    "    alt.Chart(countries_shape)\n",
    "    .mark_geoshape(stroke='black', strokeWidth=0.5)\n",
    "    .transform_lookup(\n",
    "        lookup='NAME',\n",
    "        from_=alt.LookupData(data=df, key='Country', fields=['Life satisfaction'])\n",
    "    ).encode(\n",
    "        color='Life satisfaction:Q',\n",
    "        opacity=alt.condition(click_countries, alt.value(1), alt.value(0.2)),\n",
    "        tooltip=['NAME', 'Life satisfaction:Q']\n",
    "    )\n",
    "    .add_params(click_countries)\n",
    "    .interactive()\n",
    ")\n",
    "\n",
    "bars = (\n",
    "    alt.Chart(countries_shape)\n",
    "    .mark_bar()\n",
    "    .transform_lookup(\n",
    "        lookup='NAME',\n",
    "        from_=alt.LookupData(data=df, key='Country', fields=['Life expectancy', 'Country'])\n",
    "    )\n",
    "    .encode(\n",
    "        x=alt.X('Country:N').sort('-y'),\n",
    "        y=alt.Y('Life expectancy:Q'),\n",
    "        opacity=alt.condition(click_countries, alt.value(1), alt.value(0.2))\n",
    "    )\n",
    "    .add_params(click_countries)\n",
    ")\n",
    "\n",
    "legend = alt.Chart(countries_shape).mark_point().encode(\n",
    "    y=alt.Y('Country:N', axis=alt.Axis(orient='right')),\n",
    "    shape='Country:N'\n",
    ").add_params(click_countries)\n",
    "\n",
    "scatter = (\n",
    "    alt.Chart(countries_shape)\n",
    "    .mark_point()\n",
    "    #.configure_legend(disable=True)\n",
    "    .transform_lookup(\n",
    "        lookup='NAME',\n",
    "        from_=alt.LookupData(data=df, key='Country', fields=['Employment rate', 'Feeling safe walking alone at night', 'Life satisfaction'])\n",
    "    )\n",
    "    .encode(\n",
    "            x=alt.X('Employment rate:Q').scale(zero=False),\n",
    "            y=alt.Y('Feeling safe walking alone at night:Q').scale(zero=False),\n",
    "            opacity=alt.condition(click_countries, alt.value(1), alt.value(0.2)),\n",
    "            #color='NAME:N',\n",
    "            tooltip=['NAME', 'Life satisfaction:Q']\n",
    "\n",
    "    )\n",
    "    .add_params(click_countries)\n",
    ")\n",
    "\n",
    "#((basemap + countries + chloropleth).project('equalEarth').properties(width=1000, height=500) & bars | scatter & legend)\n",
    "\n",
    "mcv = alt.vconcat(\n",
    "    alt.hconcat((basemap + countries + chloropleth).project('equalEarth').properties(width=700, height=300)),\n",
    "    alt.hconcat(scatter),\n",
    "    alt.hconcat(bars)\n",
    ")\n",
    "mcv.save('ScatterMCV.html')"
   ]
  },
  {
   "cell_type": "code",
   "execution_count": null,
   "metadata": {},
   "outputs": [],
   "source": []
  }
 ],
 "metadata": {
  "kernelspec": {
   "display_name": "Python 3 (ipykernel)",
   "language": "python",
   "name": "python3"
  },
  "language_info": {
   "codemirror_mode": {
    "name": "ipython",
    "version": 3
   },
   "file_extension": ".py",
   "mimetype": "text/x-python",
   "name": "python",
   "nbconvert_exporter": "python",
   "pygments_lexer": "ipython3",
   "version": "3.9.7"
  }
 },
 "nbformat": 4,
 "nbformat_minor": 4
}